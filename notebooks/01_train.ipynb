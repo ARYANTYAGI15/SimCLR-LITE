{
 "cells": [
  {
   "cell_type": "code",
   "execution_count": 1,
   "id": "3178873b",
   "metadata": {},
   "outputs": [
    {
     "name": "stdout",
     "output_type": "stream",
     "text": [
      "✅ Project root added to sys.path: c:\\Users\\Dell\\OneDrive\\Desktop\\Sim CLR lite\\SimCLR-LITE\n"
     ]
    }
   ],
   "source": [
    "import os, sys\n",
    "\n",
    "# project root (where your app.py / modules/ / data/ lives)\n",
    "project_root = os.path.abspath(os.path.dirname(os.getcwd()))\n",
    "if project_root not in sys.path:\n",
    "    sys.path.append(project_root)\n",
    "\n",
    "print(\"✅ Project root added to sys.path:\", project_root)"
   ]
  },
  {
   "cell_type": "code",
   "execution_count": null,
   "id": "02146366",
   "metadata": {},
   "outputs": [
    {
     "name": "stderr",
     "output_type": "stream",
     "text": [
      "Epoch 1/2:  15%|█▍        | 58/390 [00:51<02:44,  2.02it/s] "
     ]
    }
   ],
   "source": [
    "from modules.train import train_simclr\n",
    "\n",
    "# quick test with smaller batch & epochs (so your laptop doesn't die)\n",
    "train_simclr(epochs=2, batch_size=128, lr=1e-3)\n"
   ]
  },
  {
   "cell_type": "code",
   "execution_count": null,
   "id": "38fc9b84",
   "metadata": {},
   "outputs": [],
   "source": []
  }
 ],
 "metadata": {
  "kernelspec": {
   "display_name": "SIMCLR",
   "language": "python",
   "name": "python3"
  },
  "language_info": {
   "codemirror_mode": {
    "name": "ipython",
    "version": 3
   },
   "file_extension": ".py",
   "mimetype": "text/x-python",
   "name": "python",
   "nbconvert_exporter": "python",
   "pygments_lexer": "ipython3",
   "version": "3.11.7"
  }
 },
 "nbformat": 4,
 "nbformat_minor": 5
}
